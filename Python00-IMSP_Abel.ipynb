{
 "cells": [
  {
   "cell_type": "code",
   "execution_count": 42,
   "id": "fa0da6ad",
   "metadata": {},
   "outputs": [
    {
     "name": "stdout",
     "output_type": "stream",
     "text": [
      "I Doing calculation the python way\n"
     ]
    }
   ],
   "source": [
    "print(\"I Doing calculation the python way\")"
   ]
  },
  {
   "cell_type": "code",
   "execution_count": 3,
   "id": "5819d578",
   "metadata": {},
   "outputs": [],
   "source": [
    "width = 17 \n",
    "height = 12.0 \n",
    "delimiter = '.'"
   ]
  },
  {
   "cell_type": "code",
   "execution_count": 4,
   "id": "7a86beda",
   "metadata": {},
   "outputs": [
    {
     "name": "stdout",
     "output_type": "stream",
     "text": [
      "1 a)\n"
     ]
    }
   ],
   "source": [
    "print('1 a)')"
   ]
  },
  {
   "cell_type": "code",
   "execution_count": 5,
   "id": "f2ed3a20",
   "metadata": {},
   "outputs": [
    {
     "data": {
      "text/plain": [
       "8.5"
      ]
     },
     "execution_count": 5,
     "metadata": {},
     "output_type": "execute_result"
    }
   ],
   "source": [
    "width/2 # valeur: 8.5 ; type:float"
   ]
  },
  {
   "cell_type": "code",
   "execution_count": 9,
   "id": "a18821a2",
   "metadata": {},
   "outputs": [
    {
     "data": {
      "text/plain": [
       "float"
      ]
     },
     "execution_count": 9,
     "metadata": {},
     "output_type": "execute_result"
    }
   ],
   "source": [
    "type(width/2)"
   ]
  },
  {
   "cell_type": "code",
   "execution_count": 6,
   "id": "3650db6f",
   "metadata": {},
   "outputs": [
    {
     "name": "stdout",
     "output_type": "stream",
     "text": [
      "b)\n"
     ]
    }
   ],
   "source": [
    "print('b)')"
   ]
  },
  {
   "cell_type": "code",
   "execution_count": 7,
   "id": "ca380671",
   "metadata": {},
   "outputs": [
    {
     "data": {
      "text/plain": [
       "8.5"
      ]
     },
     "execution_count": 7,
     "metadata": {},
     "output_type": "execute_result"
    }
   ],
   "source": [
    "width/2.0 # valeur: 8.5 ; type:float"
   ]
  },
  {
   "cell_type": "code",
   "execution_count": 10,
   "id": "02183cf7",
   "metadata": {},
   "outputs": [
    {
     "data": {
      "text/plain": [
       "float"
      ]
     },
     "execution_count": 10,
     "metadata": {},
     "output_type": "execute_result"
    }
   ],
   "source": [
    "type(width/2.0)"
   ]
  },
  {
   "cell_type": "code",
   "execution_count": 8,
   "id": "bb293b2b",
   "metadata": {},
   "outputs": [
    {
     "name": "stdout",
     "output_type": "stream",
     "text": [
      "c)\n"
     ]
    }
   ],
   "source": [
    "print('c)')"
   ]
  },
  {
   "cell_type": "code",
   "execution_count": 11,
   "id": "4c6cc715",
   "metadata": {},
   "outputs": [
    {
     "data": {
      "text/plain": [
       "4.0"
      ]
     },
     "execution_count": 11,
     "metadata": {},
     "output_type": "execute_result"
    }
   ],
   "source": [
    "height/3 # valeur: 4.0 ; type:float"
   ]
  },
  {
   "cell_type": "code",
   "execution_count": 12,
   "id": "cf25094d",
   "metadata": {},
   "outputs": [
    {
     "data": {
      "text/plain": [
       "float"
      ]
     },
     "execution_count": 12,
     "metadata": {},
     "output_type": "execute_result"
    }
   ],
   "source": [
    "type(height/3)"
   ]
  },
  {
   "cell_type": "code",
   "execution_count": 13,
   "id": "c935cec6",
   "metadata": {},
   "outputs": [
    {
     "name": "stdout",
     "output_type": "stream",
     "text": [
      "d)\n"
     ]
    }
   ],
   "source": [
    "print('d)')"
   ]
  },
  {
   "cell_type": "code",
   "execution_count": 14,
   "id": "78d03a15",
   "metadata": {},
   "outputs": [
    {
     "data": {
      "text/plain": [
       "11"
      ]
     },
     "execution_count": 14,
     "metadata": {},
     "output_type": "execute_result"
    }
   ],
   "source": [
    "1 + 2 * 5 # valeur: 11 ; type:int"
   ]
  },
  {
   "cell_type": "code",
   "execution_count": 15,
   "id": "7cca60ba",
   "metadata": {},
   "outputs": [
    {
     "data": {
      "text/plain": [
       "int"
      ]
     },
     "execution_count": 15,
     "metadata": {},
     "output_type": "execute_result"
    }
   ],
   "source": [
    "type(1 + 2 * 5)"
   ]
  },
  {
   "cell_type": "code",
   "execution_count": 16,
   "id": "72574732",
   "metadata": {},
   "outputs": [
    {
     "name": "stdout",
     "output_type": "stream",
     "text": [
      "e)\n"
     ]
    }
   ],
   "source": [
    "print('e)')"
   ]
  },
  {
   "cell_type": "code",
   "execution_count": 17,
   "id": "97057b69",
   "metadata": {},
   "outputs": [
    {
     "data": {
      "text/plain": [
       "'.....'"
      ]
     },
     "execution_count": 17,
     "metadata": {},
     "output_type": "execute_result"
    }
   ],
   "source": [
    "delimiter * 5 # valeur: .....' ; type:str"
   ]
  },
  {
   "cell_type": "code",
   "execution_count": 18,
   "id": "fdbe434e",
   "metadata": {},
   "outputs": [
    {
     "data": {
      "text/plain": [
       "str"
      ]
     },
     "execution_count": 18,
     "metadata": {},
     "output_type": "execute_result"
    }
   ],
   "source": [
    "type(delimiter * 5 )"
   ]
  },
  {
   "cell_type": "code",
   "execution_count": 19,
   "id": "befe02db",
   "metadata": {},
   "outputs": [
    {
     "name": "stdout",
     "output_type": "stream",
     "text": [
      "2) calcule du volume d'une sphère de rayon r=5\n"
     ]
    }
   ],
   "source": [
    "print(\"2) calcule du volume d'une sphère de rayon r=5\")"
   ]
  },
  {
   "cell_type": "code",
   "execution_count": 20,
   "id": "33dfb7db",
   "metadata": {},
   "outputs": [],
   "source": [
    "r = 5\n",
    "pi = 3.1415926535897931\n",
    "V = (4*pi*r*r*r)/3"
   ]
  },
  {
   "cell_type": "code",
   "execution_count": 27,
   "id": "5aef523e",
   "metadata": {},
   "outputs": [
    {
     "name": "stdout",
     "output_type": "stream",
     "text": [
      "523.5987755982989\n"
     ]
    }
   ],
   "source": [
    "print(V)"
   ]
  },
  {
   "cell_type": "code",
   "execution_count": 43,
   "id": "da5b935c",
   "metadata": {},
   "outputs": [
    {
     "name": "stdout",
     "output_type": "stream",
     "text": [
      "II Knowing more about data types and their operations\n"
     ]
    }
   ],
   "source": [
    "print(\"II Knowing more about data types and their operations\")"
   ]
  },
  {
   "cell_type": "code",
   "execution_count": 29,
   "id": "397d000e",
   "metadata": {},
   "outputs": [
    {
     "name": "stdout",
     "output_type": "stream",
     "text": [
      "1\n"
     ]
    }
   ],
   "source": [
    "print('1)') "
   ]
  },
  {
   "cell_type": "code",
   "execution_count": 30,
   "id": "b40e1373",
   "metadata": {},
   "outputs": [],
   "source": [
    "A=1\n",
    "A=int(A)\n",
    "\n",
    "B=5\n",
    "B=float(B)\n",
    "\n",
    "C=\"Dix\"\n",
    "C=str(C)"
   ]
  },
  {
   "cell_type": "code",
   "execution_count": 33,
   "id": "3674d7b6",
   "metadata": {},
   "outputs": [
    {
     "data": {
      "text/plain": [
       "int"
      ]
     },
     "execution_count": 33,
     "metadata": {},
     "output_type": "execute_result"
    }
   ],
   "source": [
    "type(A)\n"
   ]
  },
  {
   "cell_type": "code",
   "execution_count": 34,
   "id": "7c17bc8a",
   "metadata": {},
   "outputs": [
    {
     "data": {
      "text/plain": [
       "float"
      ]
     },
     "execution_count": 34,
     "metadata": {},
     "output_type": "execute_result"
    }
   ],
   "source": [
    "type(B)"
   ]
  },
  {
   "cell_type": "code",
   "execution_count": 36,
   "id": "1edb5e0a",
   "metadata": {},
   "outputs": [
    {
     "name": "stdout",
     "output_type": "stream",
     "text": [
      "2\n"
     ]
    }
   ],
   "source": [
    "print('2)')"
   ]
  },
  {
   "cell_type": "code",
   "execution_count": 38,
   "id": "ca06a5ae",
   "metadata": {},
   "outputs": [
    {
     "name": "stdout",
     "output_type": "stream",
     "text": [
      "Il aura d'erreure dan les cas iv) et v).\n"
     ]
    }
   ],
   "source": [
    "print(\"Il aura d'erreure dan les cas iv) et v).\") "
   ]
  },
  {
   "cell_type": "code",
   "execution_count": 40,
   "id": "951a26e8",
   "metadata": {},
   "outputs": [
    {
     "name": "stdout",
     "output_type": "stream",
     "text": [
      "3\n"
     ]
    }
   ],
   "source": [
    "print('3)')"
   ]
  },
  {
   "cell_type": "code",
   "execution_count": null,
   "id": "c5e50b9d",
   "metadata": {},
   "outputs": [],
   "source": []
  }
 ],
 "metadata": {
  "kernelspec": {
   "display_name": "Python 3",
   "language": "python",
   "name": "python3"
  },
  "language_info": {
   "codemirror_mode": {
    "name": "ipython",
    "version": 3
   },
   "file_extension": ".py",
   "mimetype": "text/x-python",
   "name": "python",
   "nbconvert_exporter": "python",
   "pygments_lexer": "ipython3",
   "version": "3.8.5"
  }
 },
 "nbformat": 4,
 "nbformat_minor": 5
}
