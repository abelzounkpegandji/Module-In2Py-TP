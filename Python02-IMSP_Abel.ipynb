{
 "cells": [
  {
   "cell_type": "markdown",
   "id": "94be97bd",
   "metadata": {},
   "source": [
    "### Résultats"
   ]
  },
  {
   "cell_type": "markdown",
   "id": "11d8e57e",
   "metadata": {},
   "source": [
    "### 1)"
   ]
  },
  {
   "cell_type": "code",
   "execution_count": null,
   "id": "e1905dfb",
   "metadata": {},
   "outputs": [],
   "source": [
    "import math\n",
    "from math import *\n",
    "x = int(input('x : ' ))\n",
    "y = int(input('y : ' ))\n",
    "z = (math.sqrt(math.pow(2,2+y)))/((1/x) + 2(math.sin(y)))\n",
    "print(z)"
   ]
  },
  {
   "cell_type": "markdown",
   "id": "6015f80c",
   "metadata": {},
   "source": [
    "### 2)"
   ]
  },
  {
   "cell_type": "code",
   "execution_count": 12,
   "id": "baccb3e4",
   "metadata": {},
   "outputs": [
    {
     "name": "stdout",
     "output_type": "stream",
     "text": [
      "b : 2\n",
      "n : 2\n"
     ]
    },
    {
     "data": {
      "text/plain": [
       "4"
      ]
     },
     "execution_count": 12,
     "metadata": {},
     "output_type": "execute_result"
    }
   ],
   "source": [
    "def ownpowerfn(n,b):\n",
    "    i=1\n",
    "    p=b\n",
    "    while (i<n):\n",
    "        p = p*b\n",
    "        i=i+1\n",
    "    return p\n",
    "\n",
    "b = int(input('b : ' ))\n",
    "n = int(input('n : ' ))\n",
    "\n",
    "ownpowerfn(n,b)"
   ]
  },
  {
   "cell_type": "markdown",
   "id": "e9714180",
   "metadata": {},
   "source": [
    "### 3)"
   ]
  },
  {
   "cell_type": "markdown",
   "id": "55bf424b",
   "metadata": {},
   "source": [
    "### a)"
   ]
  },
  {
   "cell_type": "code",
   "execution_count": 24,
   "id": "51b999c9",
   "metadata": {},
   "outputs": [
    {
     "name": "stdout",
     "output_type": "stream",
     "text": [
      "a : 15\n",
      "b : 20\n",
      "Moyenne arithemetique :  17.5\n"
     ]
    }
   ],
   "source": [
    "def arithmetic_mean(a,b):\n",
    "    return (a+b)/2\n",
    "a = int(input('a : ' ))\n",
    "b = int(input('b : ' ))\n",
    "\n",
    "print('Moyenne arithemetique : ', arithmetic_mean(a,b))\n",
    "    \n",
    "    "
   ]
  },
  {
   "cell_type": "code",
   "execution_count": 22,
   "id": "680c47e1",
   "metadata": {},
   "outputs": [
    {
     "name": "stdout",
     "output_type": "stream",
     "text": [
      "a : 15\n",
      "b : 20\n",
      "Moyenne géometrique :  17.320508075688775\n"
     ]
    }
   ],
   "source": [
    "import math\n",
    "from math import *\n",
    "def geometry_mean(a,b):\n",
    "    return math.sqrt(a*b)\n",
    "a = int(input('a : ' ))\n",
    "b = int(input('b : ' ))\n",
    "\n",
    "print('Moyenne géometrique : ', geometry_mean(a,b))"
   ]
  },
  {
   "cell_type": "markdown",
   "id": "335e6e34",
   "metadata": {},
   "source": [
    "### b)"
   ]
  },
  {
   "cell_type": "markdown",
   "id": "fdd45825",
   "metadata": {},
   "source": [
    "### 4)"
   ]
  },
  {
   "cell_type": "markdown",
   "id": "f41cd65f",
   "metadata": {},
   "source": [
    "### a)"
   ]
  },
  {
   "cell_type": "code",
   "execution_count": null,
   "id": "016b6db7",
   "metadata": {},
   "outputs": [],
   "source": []
  }
 ],
 "metadata": {
  "kernelspec": {
   "display_name": "Python 3",
   "language": "python",
   "name": "python3"
  },
  "language_info": {
   "codemirror_mode": {
    "name": "ipython",
    "version": 3
   },
   "file_extension": ".py",
   "mimetype": "text/x-python",
   "name": "python",
   "nbconvert_exporter": "python",
   "pygments_lexer": "ipython3",
   "version": "3.8.5"
  }
 },
 "nbformat": 4,
 "nbformat_minor": 5
}
