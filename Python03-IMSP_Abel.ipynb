{
 "cells": [
  {
   "cell_type": "markdown",
   "id": "c618a409",
   "metadata": {},
   "source": [
    "### 1)"
   ]
  },
  {
   "cell_type": "markdown",
   "id": "ee2562d0",
   "metadata": {},
   "source": [
    "### a)"
   ]
  },
  {
   "cell_type": "code",
   "execution_count": 1,
   "id": "26debe8a",
   "metadata": {},
   "outputs": [
    {
     "name": "stdout",
     "output_type": "stream",
     "text": [
      "Entrez une première chaine croissante :bcd\n",
      "Entrez une première chaine croissante :bd\n"
     ]
    },
    {
     "data": {
      "text/plain": [
       "'bbcdd'"
      ]
     },
     "execution_count": 1,
     "metadata": {},
     "output_type": "execute_result"
    }
   ],
   "source": [
    " def X(a,b):\n",
    "    tab1 = []\n",
    "    tab2 = []\n",
    "    for i in a:\n",
    "        tab1.append(i)\n",
    "    for i in b:\n",
    "        tab2.append(i)\n",
    "        \n",
    "    for i in range(len(tab1)):\n",
    "        \n",
    "        for j in range(len(tab2)):\n",
    "            if(j!=len(tab2)-1):\n",
    "                if(tab1[i] <= tab2[j]):\n",
    "                    tab2.insert(j,tab1[i])\n",
    "                    break\n",
    "            else:\n",
    "                if(tab1[i] <= tab2[j]):\n",
    "                    tab2.insert(j,tab1[i])\n",
    "                    break\n",
    "                else:\n",
    "                    tab2.append(tab1[i])\n",
    "                \n",
    "    result =''.join(tab2)\n",
    "    return result\n",
    "\n",
    "a = str(input('Entrez une première chaine croissante :'))\n",
    "b = str(input('Entrez une première chaine croissante :'))\n",
    "\n",
    "X(a,b)"
   ]
  },
  {
   "cell_type": "markdown",
   "id": "e826bafa",
   "metadata": {},
   "source": [
    "### b)"
   ]
  },
  {
   "cell_type": "markdown",
   "id": "81c4d911",
   "metadata": {},
   "source": [
    "### oui"
   ]
  },
  {
   "cell_type": "markdown",
   "id": "001ac5d1",
   "metadata": {},
   "source": [
    "### c)"
   ]
  },
  {
   "cell_type": "code",
   "execution_count": 3,
   "id": "3bf68673",
   "metadata": {},
   "outputs": [
    {
     "name": "stdout",
     "output_type": "stream",
     "text": [
      "Entrez une  chaine à triée :dabgd\n"
     ]
    },
    {
     "data": {
      "text/plain": [
       "'abddg'"
      ]
     },
     "execution_count": 3,
     "metadata": {},
     "output_type": "execute_result"
    }
   ],
   "source": [
    "def Z(a):\n",
    "    tab_1 = []\n",
    "    tab_2 = []\n",
    "    tab_3 = []\n",
    "    for i in a:\n",
    "        tab_1.append(i)\n",
    "    j=0\n",
    "    while j < (int(len(tab_1)/2)):\n",
    "        tab_2.append(tab_1[j])\n",
    "        j+=1\n",
    "    i = int(len(tab_1)/2)\n",
    "    while i < len(tab_1):\n",
    "        tab_3.append(tab_1[i])\n",
    "        i +=1 \n",
    "    tab_2.sort()\n",
    "    tab_3.sort()\n",
    "    ch1 = ''.join(tab_2)\n",
    "    ch2 = ''.join(tab_3)\n",
    "    return X(ch1,ch2)\n",
    "\n",
    "a = str(input('Entrez une  chaine à triée :'))\n",
    "\n",
    "Z(a)"
   ]
  },
  {
   "cell_type": "markdown",
   "id": "c2a68d77",
   "metadata": {},
   "source": [
    "### d)"
   ]
  },
  {
   "cell_type": "code",
   "execution_count": null,
   "id": "b61a7735",
   "metadata": {},
   "outputs": [],
   "source": [
    "def X_mod(a,b):\n",
    "    return X(S(a),Z(b)) \n",
    "\n",
    "a = str(input('Entrez une première chaine croissante :'))\n",
    "b = str(input('Entrez une première chaine croissante :'))\n",
    "\n",
    "X_mod(a,b)"
   ]
  },
  {
   "cell_type": "markdown",
   "id": "ea67b3e1",
   "metadata": {},
   "source": [
    "### e)"
   ]
  },
  {
   "cell_type": "code",
   "execution_count": null,
   "id": "0040b2f3",
   "metadata": {},
   "outputs": [],
   "source": []
  },
  {
   "cell_type": "markdown",
   "id": "d48eac5e",
   "metadata": {},
   "source": [
    "### i)"
   ]
  },
  {
   "cell_type": "code",
   "execution_count": 38,
   "id": "c3d76ff1",
   "metadata": {},
   "outputs": [
    {
     "name": "stdout",
     "output_type": "stream",
     "text": [
      "Entrez une phrase :BONJOUR\n",
      "la première voyelle dans cette phrase est : o\n"
     ]
    }
   ],
   "source": [
    "def voy_phrase(phrase):\n",
    "    voyelles = \"aeiouy\"\n",
    "    trouver='non'\n",
    "    for lettre in phrase:\n",
    "        if lettre in voyelles:\n",
    "            if trouver=='non':\n",
    "                print('la première voyelle dans cette phrase est :',lettre)\n",
    "                trouver='oui'\n",
    "\n",
    "phrase = str(input('Entrez une phrase :'))\n",
    "phrase = phrase.lower()\n",
    "\n",
    "voy_phrase(phrase)"
   ]
  },
  {
   "cell_type": "markdown",
   "id": "022bf84e",
   "metadata": {},
   "source": [
    "### ii)"
   ]
  },
  {
   "cell_type": "code",
   "execution_count": 42,
   "id": "575f33fc",
   "metadata": {},
   "outputs": [
    {
     "name": "stdout",
     "output_type": "stream",
     "text": [
      "Entrez une phrase :BONJOUR\n",
      "Cette phrase contient  3  voyelle(s)\n"
     ]
    }
   ],
   "source": [
    "def count_voyel(phrase):\n",
    "    voyelles = \"aeiouy\"\n",
    "    cpt=0\n",
    "    for lettre in phrase:\n",
    "        if lettre in voyelles:\n",
    "            cpt +=1\n",
    "    print('Cette phrase contient ',cpt,' voyelle(s)')\n",
    "            \n",
    "phrase = str(input('Entrez une phrase :'))\n",
    "phrase = phrase.lower()\n",
    "\n",
    "count_voyel(phrase)"
   ]
  },
  {
   "cell_type": "code",
   "execution_count": 44,
   "id": "d9c7b11f",
   "metadata": {},
   "outputs": [
    {
     "name": "stdout",
     "output_type": "stream",
     "text": [
      "Entrez une voyelle :i\n",
      "true\n"
     ]
    }
   ],
   "source": [
    "def isVowel(c):\n",
    "    voyelles = \"aeiouy\"\n",
    "    if c in voyelles:\n",
    "        print('true')\n",
    "    else:\n",
    "        print('false')\n",
    "        \n",
    "c = str(input('Entrez une voyelle : '))\n",
    "c = c.lower()\n",
    "\n",
    "isVowel(c)"
   ]
  },
  {
   "cell_type": "markdown",
   "id": "b41905e4",
   "metadata": {},
   "source": [
    "### iii)"
   ]
  },
  {
   "cell_type": "code",
   "execution_count": 55,
   "id": "cb8f3202",
   "metadata": {},
   "outputs": [
    {
     "name": "stdout",
     "output_type": "stream",
     "text": [
      "Entrer des lettres ou un entier pour arreter le programme : \n",
      "*abel3\n",
      "A\n",
      "B\n",
      "E\n",
      "L\n"
     ]
    }
   ],
   "source": [
    "print('Entrer des lettres ou un entier pour arreter le programme : ')\n",
    "l = 'a'\n",
    "while(l.isalpha()):\n",
    "    lettre = input('*')\n",
    "    for l in lettre:\n",
    "        if l.isalpha():\n",
    "            print(l.upper())"
   ]
  },
  {
   "cell_type": "markdown",
   "id": "87be7b96",
   "metadata": {},
   "source": [
    "#### iv)"
   ]
  },
  {
   "cell_type": "code",
   "execution_count": 61,
   "id": "0b1ba7f6",
   "metadata": {},
   "outputs": [
    {
     "name": "stdout",
     "output_type": "stream",
     "text": [
      "Entrez une phrase :je suis étudiant à l'IMSP\n",
      "Cette phrase : ' JE SUIS ÉTUDIANT À L'IMSP ' contient selons chacune des voyelles\n",
      "A = 1\n",
      "E = 1\n",
      "I = 3\n",
      "O = 0\n",
      "U = 2\n",
      "Y = 0\n"
     ]
    }
   ],
   "source": [
    "def count_sepa_voyel(phrase):\n",
    "    voyelles = \"aeiouy\"\n",
    "    voyelles = voyelles.upper()\n",
    "    print(\"Cette phrase : '\",phrase,\"' contient selons chacune des voyelles\")\n",
    "    for voy in voyelles:\n",
    "        i=0\n",
    "        for lettre in phrase:\n",
    "            if voy==lettre:\n",
    "                i+=1\n",
    "        print(voy, '=',i)\n",
    "    \n",
    "\n",
    "phrase = str(input('Entrez une phrase :'))\n",
    "phrase = phrase.upper()\n",
    "\n",
    "count_sepa_voyel(phrase)"
   ]
  },
  {
   "cell_type": "markdown",
   "id": "c0092257",
   "metadata": {},
   "source": [
    "### v)"
   ]
  },
  {
   "cell_type": "code",
   "execution_count": 65,
   "id": "346ccbc7",
   "metadata": {},
   "outputs": [
    {
     "name": "stdout",
     "output_type": "stream",
     "text": [
      "Entrez une phrase :je conduis ma moto de Cotonou jusqu'à Bohicon\n",
      "Cette phrase : ' JE CONDUIS MA MOTO DE COTONOU JUSQU'À BOHICON ' contient selons chacune des lettres C et D\n",
      "B = 1\n",
      "C = 3\n",
      "C est le majeur\n"
     ]
    }
   ],
   "source": [
    "def apparition_bc(phrase):\n",
    "    j=0\n",
    "    recherche = \"bc\"\n",
    "    recherche = recherche.upper()\n",
    "    print(\"Cette phrase : '\",phrase,\"' contient selons chacune des lettres C et D\")\n",
    "    for bc in recherche:\n",
    "        i=0\n",
    "        for lettre in phrase:\n",
    "            if bc==lettre:\n",
    "                i+=1\n",
    "        if i>j:\n",
    "            message = bc + ' est le majeur'\n",
    "            j=i\n",
    "        print(bc, '=',i)\n",
    "    print(message)\n",
    "    \n",
    "\n",
    "phrase = str(input('Entrez une phrase :'))\n",
    "phrase = phrase.upper()\n",
    "\n",
    "apparition_bc(phrase)"
   ]
  },
  {
   "cell_type": "markdown",
   "id": "d0d557d4",
   "metadata": {},
   "source": [
    "### vi)"
   ]
  },
  {
   "cell_type": "code",
   "execution_count": 97,
   "id": "1041475c",
   "metadata": {},
   "outputs": [
    {
     "name": "stdout",
     "output_type": "stream",
     "text": [
      "Entrez une phrase :je suis à l'école\n",
      "Je Suis À L'École\n"
     ]
    }
   ],
   "source": [
    "def premiere_lettre_majus(phrase):\n",
    "    tab=[]\n",
    "    chaine=''\n",
    "\n",
    "    for lettre in phrase:\n",
    "        tab.append(lettre)\n",
    "    for i in range(len(tab)):\n",
    "        if i==0:\n",
    "            tab[i] = tab[i].upper()\n",
    "        elif tab[i] ==' ':\n",
    "            tab[i+1] = tab[i+1].upper()\n",
    "        elif tab[i]==\"'\":\n",
    "            tab[i+1] = tab[i+1].upper() \n",
    "            tab[i-1] = tab[i-1].upper()\n",
    "        chaine=chaine + tab[i]\n",
    "    print(chaine)\n",
    "    \n",
    "phrase = str(input('Entrez une phrase :'))\n",
    "\n",
    "premiere_lettre_majus(phrase)"
   ]
  },
  {
   "cell_type": "markdown",
   "id": "b01a870d",
   "metadata": {},
   "source": [
    "### vii)"
   ]
  },
  {
   "cell_type": "code",
   "execution_count": 119,
   "id": "7a01ac69",
   "metadata": {},
   "outputs": [
    {
     "name": "stdout",
     "output_type": "stream",
     "text": [
      "Entrez une phrase :engage le jeu que je le gagne\n",
      "c'est une phrase palindrome\n"
     ]
    }
   ],
   "source": [
    "def phrase_palidrome(phrase):\n",
    "    tab=[]\n",
    "    tabr=[]\n",
    "    chaine=''\n",
    "    for lettre in phrase:\n",
    "        tab.append(lettre)\n",
    "    tabr = tab[: :-1]\n",
    "    for i in range(len(tabr)):\n",
    "        chaine=chaine + tabr[i]\n",
    "    if phrase==chaine:\n",
    "        print(\"c'est une phrase palindrome\") \n",
    "    else:\n",
    "        print(\"ce n'est pas une phrase palindrome\") \n",
    "\n",
    "    \n",
    "    \n",
    "phrase = str(input('Entrez une phrase :'))\n",
    "\n",
    "phrase = phrase.replace(' ','')\n",
    "\n",
    "phrase_palidrome(phrase)"
   ]
  },
  {
   "cell_type": "markdown",
   "id": "51521244",
   "metadata": {},
   "source": [
    "### viii)"
   ]
  },
  {
   "cell_type": "code",
   "execution_count": null,
   "id": "36d6f81d",
   "metadata": {},
   "outputs": [],
   "source": [
    "def nombre_de_mots(phrase):\n",
    " \n",
    "\n",
    "    \n",
    "     tab=[]\n",
    "    tabr=[]\n",
    "    mot=''\n",
    "    compar=''\n",
    "    for lettre in phrase:\n",
    "        tab.append(lettre)\n",
    "    for i in range(len(tab)):\n",
    "        if tab[i]==' ':\n",
    "            for j==i+1 in range(len(tab)):\n",
    "                if new_mot =='non' and tab[j]!=' ':\n",
    "                    mot=mot + tab[j]\n",
    "                else:\n",
    "                    new_mot =='oui'\n",
    "            phrase.\n",
    "                \n",
    "    \n",
    "phrase = str(input('Entrez une phrase :'))\n",
    "\n",
    "\n",
    "\n",
    "nombre_de_mots(phrase)"
   ]
  }
 ],
 "metadata": {
  "kernelspec": {
   "display_name": "Python 3",
   "language": "python",
   "name": "python3"
  },
  "language_info": {
   "codemirror_mode": {
    "name": "ipython",
    "version": 3
   },
   "file_extension": ".py",
   "mimetype": "text/x-python",
   "name": "python",
   "nbconvert_exporter": "python",
   "pygments_lexer": "ipython3",
   "version": "3.8.5"
  }
 },
 "nbformat": 4,
 "nbformat_minor": 5
}
