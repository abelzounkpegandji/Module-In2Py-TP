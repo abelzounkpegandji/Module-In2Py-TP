{
 "cells": [
  {
   "cell_type": "markdown",
   "id": "773342af",
   "metadata": {},
   "source": [
    "# Réponses"
   ]
  },
  {
   "cell_type": "markdown",
   "id": "2ef303dd",
   "metadata": {},
   "source": [
    "### 1)"
   ]
  },
  {
   "cell_type": "code",
   "execution_count": null,
   "id": "bd15f103",
   "metadata": {},
   "outputs": [],
   "source": [
    "liste_prod={'tomate':100,'mangue':200}\n",
    "\n",
    "def add_prod(prod,prix,liste_prod):\n",
    "    return liste_prod[prod] = prix\n",
    "\n",
    "\n",
    "def change_prix(prod,prix,liste_prod):\n",
    "    return liste_prod[prod][0]=prix\n",
    "\n",
    "\n",
    "def consult_prix(prod,liste_prod):\n",
    "    return liste_prod[prod][0]\n",
    "\n"
   ]
  },
  {
   "cell_type": "markdown",
   "id": "96392b87",
   "metadata": {},
   "source": [
    "### 2)"
   ]
  },
  {
   "cell_type": "code",
   "execution_count": null,
   "id": "a4738b3e",
   "metadata": {},
   "outputs": [],
   "source": [
    "list_phone={'jean':95065789,'pierre':67890987}\n",
    "\n",
    "def add_new_phone(nom,num,liste_phone):\n",
    "    return liste_phone[nom] = num\n",
    "\n",
    "\n",
    "\n",
    "def search_telephone(nom,liste_phone):\n",
    "    return liste_phone[nom][0]\n",
    "\n",
    "\n",
    "\n",
    "def searche_name(num,liste_phone):\n",
    "    return liste_phone[0][num]\n",
    "\n",
    "\n",
    "\n",
    "def print_liste_phone(liste_phone):\n",
    "    print(liste_phone)\n"
   ]
  },
  {
   "cell_type": "markdown",
   "id": "f12acc68",
   "metadata": {},
   "source": [
    "### 3)"
   ]
  },
  {
   "cell_type": "markdown",
   "id": "34d2cc65",
   "metadata": {},
   "source": [
    "### 4)"
   ]
  },
  {
   "cell_type": "code",
   "execution_count": null,
   "id": "d63dad22",
   "metadata": {},
   "outputs": [],
   "source": [
    "def find_longest_word(phrase):\n",
    "    max=0\n",
    "    compt=0\n",
    "    for j in phrase:\n",
    "        compt+=1\n",
    "        if j==' ':\n",
    "            if max < compt:\n",
    "                max = compt\n",
    "                compt = 0\n",
    "    return max\n",
    "                \n",
    "        "
   ]
  },
  {
   "cell_type": "markdown",
   "id": "1dff3994",
   "metadata": {},
   "source": [
    "### 5)"
   ]
  },
  {
   "cell_type": "code",
   "execution_count": null,
   "id": "eae07d77",
   "metadata": {},
   "outputs": [],
   "source": [
    "bilingual = {\"merry\":\"god\", \"christmas\":\"jul\", \"and\":\"och\", \"happy\":\"gott\", \"new\":\"nytt\", \"year\":\"ar\"}\n",
    "\n",
    "def translate(phrase,bilingual):\n",
    "    recup_mot = ''\n",
    "    chaine=''\n",
    "    for j in phrase :\n",
    "        recup_mot = recup_mot + j\n",
    "        if j = ''\n",
    "        chaine = chaine + bilingual[recup_mot][0]\n",
    "        recup_mot=''\n",
    "    return chaine   "
   ]
  },
  {
   "cell_type": "markdown",
   "id": "ab19e0b5",
   "metadata": {},
   "source": [
    "### 6)"
   ]
  },
  {
   "cell_type": "code",
   "execution_count": 5,
   "id": "10b44b14",
   "metadata": {},
   "outputs": [],
   "source": [
    "\n",
    "def is_member(x,a):\n",
    "    decision=''\n",
    "    for j in a:\n",
    "        if j in a:\n",
    "            decision='true'\n",
    "        else:\n",
    "            decision='false'\n",
    "    return decision "
   ]
  },
  {
   "cell_type": "markdown",
   "id": "11c3b687",
   "metadata": {},
   "source": [
    "### 7)"
   ]
  },
  {
   "cell_type": "code",
   "execution_count": null,
   "id": "1ee7a572",
   "metadata": {},
   "outputs": [],
   "source": [
    "x = [4,9,7]\n",
    "def histogram(x):\n",
    "    a=0\n",
    "    for i in range(len(x)):\n",
    "        a = x[i]\n",
    "        for j in range(a):\n",
    "            print('*')\n",
    "        "
   ]
  },
  {
   "cell_type": "markdown",
   "id": "8c1aba02",
   "metadata": {},
   "source": [
    "### 8)"
   ]
  },
  {
   "cell_type": "code",
   "execution_count": null,
   "id": "45d75f22",
   "metadata": {},
   "outputs": [],
   "source": [
    "Amour ={}\n",
    "Paix ={}\n",
    "Fois = {}"
   ]
  }
 ],
 "metadata": {
  "kernelspec": {
   "display_name": "Python 3",
   "language": "python",
   "name": "python3"
  },
  "language_info": {
   "codemirror_mode": {
    "name": "ipython",
    "version": 3
   },
   "file_extension": ".py",
   "mimetype": "text/x-python",
   "name": "python",
   "nbconvert_exporter": "python",
   "pygments_lexer": "ipython3",
   "version": "3.8.5"
  }
 },
 "nbformat": 4,
 "nbformat_minor": 5
}
