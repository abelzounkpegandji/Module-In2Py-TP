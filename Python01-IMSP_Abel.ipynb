{
 "cells": [
  {
   "cell_type": "markdown",
   "id": "24df3dc9",
   "metadata": {},
   "source": [
    "### I Summations and Products"
   ]
  },
  {
   "cell_type": "markdown",
   "id": "0f922f60",
   "metadata": {},
   "source": [
    "### 1)"
   ]
  },
  {
   "cell_type": "markdown",
   "id": "af73fea1",
   "metadata": {},
   "source": [
    "### (i)"
   ]
  },
  {
   "cell_type": "code",
   "execution_count": 11,
   "id": "d815f1b0",
   "metadata": {},
   "outputs": [
    {
     "name": "stdout",
     "output_type": "stream",
     "text": [
      "10\n"
     ]
    }
   ],
   "source": [
    "n = 5\n",
    "i=1\n",
    "som = 0\n",
    "while (i<n):\n",
    "    if (i%2 != 0) :\n",
    "        som = som + (i + 3)\n",
    "    i = i + 1\n",
    "print(som)"
   ]
  },
  {
   "cell_type": "markdown",
   "id": "67cafd8d",
   "metadata": {},
   "source": [
    "### (ii)"
   ]
  },
  {
   "cell_type": "code",
   "execution_count": 15,
   "id": "76fe978d",
   "metadata": {},
   "outputs": [
    {
     "name": "stdout",
     "output_type": "stream",
     "text": [
      "35\n"
     ]
    }
   ],
   "source": [
    "n = 5\n",
    "i=1\n",
    "prod = 1\n",
    "while (i<n):\n",
    "    if (i%2 == 0) :\n",
    "        prod = prod * (i + 3)\n",
    "    i = i + 1\n",
    "\n",
    "print(prod)"
   ]
  },
  {
   "cell_type": "markdown",
   "id": "a1c5efad",
   "metadata": {},
   "source": [
    "### 2)"
   ]
  },
  {
   "cell_type": "code",
   "execution_count": 24,
   "id": "a042a6b5",
   "metadata": {},
   "outputs": [
    {
     "name": "stdout",
     "output_type": "stream",
     "text": [
      "Lundi\n",
      "Mardi\n",
      "Mercredi\n",
      "Jeudi\n",
      "Vendredi\n",
      "Weekend\n",
      "Weekend\n"
     ]
    }
   ],
   "source": [
    "jours = ['Lundi', 'Mardi','Mercredi','Jeudi','Vendredi','Samedi','Dimanche']\n",
    "n = 7\n",
    "i = 0\n",
    "while (i<n):\n",
    "    if (i==5):\n",
    "         print('Weekend')\n",
    "    else:\n",
    "        if (i==6):\n",
    "            print('Weekend')\n",
    "        else:\n",
    "            print(jours[i])\n",
    "    i = i + 1\n",
    "        "
   ]
  },
  {
   "cell_type": "markdown",
   "id": "a9819214",
   "metadata": {},
   "source": [
    "### 3)"
   ]
  },
  {
   "cell_type": "code",
   "execution_count": null,
   "id": "bab4f0e8",
   "metadata": {},
   "outputs": [],
   "source": [
    "mois = [31,28,31,30,31,30,31,31,30,31,30,31]\n",
    "\n"
   ]
  },
  {
   "cell_type": "code",
   "execution_count": null,
   "id": "b75c9636",
   "metadata": {},
   "outputs": [],
   "source": []
  }
 ],
 "metadata": {
  "kernelspec": {
   "display_name": "Python 3",
   "language": "python",
   "name": "python3"
  },
  "language_info": {
   "codemirror_mode": {
    "name": "ipython",
    "version": 3
   },
   "file_extension": ".py",
   "mimetype": "text/x-python",
   "name": "python",
   "nbconvert_exporter": "python",
   "pygments_lexer": "ipython3",
   "version": "3.8.5"
  }
 },
 "nbformat": 4,
 "nbformat_minor": 5
}
