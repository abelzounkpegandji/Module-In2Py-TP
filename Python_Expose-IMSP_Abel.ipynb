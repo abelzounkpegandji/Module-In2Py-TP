{
 "cells": [
  {
   "cell_type": "markdown",
   "id": "3bc7ec32",
   "metadata": {},
   "source": [
    "# <center> <b> <span style=\"color:green;\"> LE CONTROLE DE VERSIONS AVEC GIT</span> </b></center>"
   ]
  },
  {
   "cell_type": "markdown",
   "id": "fd6748b9",
   "metadata": {},
   "source": [
    "## <left> <b> <span style=\"color:orange;\">INTRODUCTION</span> </b></left>\n",
    " Git est le sytème de gestion de version décentralisé open source qui facilite les activités GitHub sur votre ordinateur.  Cet exposé va nous servir d'un aide-mémoire qui permet un accès rapide aux instructions des commandes Git les plus utilisées."
   ]
  },
  {
   "cell_type": "markdown",
   "id": "734c2bc3",
   "metadata": {},
   "source": [
    "## <left> <b> <span style=\"color:orange;\">Qu’est-ce que Git ?</span> </b></left>\n",
    "\n",
    "### - <left> <b> <span style=\"color:green;\">Logiciels de gestion de versions ,</span> </b></left>\n",
    "    - Ou Version Control System(VCS),\n",
    "    - ou RCS : Revision Control System,\n",
    "    - ou SCM : Source/Software Code/Control Management\n",
    "###  - <left> <b> <span style=\"color:green;\">Permettre la traçabilité d’un développement : </span> </b></left> \n",
    "    - Qui a changé quoi ? Pourquoi? Quand ?\n",
    "    - Qu’est-ce qui a changé exactement ?\n",
    "### - <left> <b> <span style=\"color:green;\">Collaborer sur un développement</span> </b></left> \n",
    "    - Travailler à plusieurs sur un fichier, en gérant les conflits\n",
    "### - <left> <b> <span style=\"color:green;\">Pas limité au développement logiciel</span> </b></left> \n",
    "    - Administration système (avec outils de gestion deconfiguration comme Puppet ou Chef)\n",
    "    - Documents (souvent avec LaTeX)"
   ]
  },
  {
   "cell_type": "markdown",
   "id": "8b0ca103",
   "metadata": {},
   "source": [
    "## <left> <b> <span style=\"color:orange;\">Installation de git</span> </b></left>"
   ]
  },
  {
   "cell_type": "markdown",
   "id": "9a111e6f",
   "metadata": {},
   "source": [
    "GitHub fournit des clients desktop qui incluent une interface\n",
    "graphique pour les manipulations les plus courantes et une \"an\n",
    "automatically updating command line edition of Git\" pour les scénari\n",
    "avancés.\n",
    "\n",
    "- GitHub pour Windows\n",
    "    https://windows.github.com\n",
    "        \n",
    "- GitHub pour Mac\n",
    "    https://mac.github.com\n",
    "    \n",
    "Les distributions de Git pour Linux et les systèmes POSIX sont\n",
    "disponibles sur le site web officiel de Git SCM.\n",
    "\n",
    "- Git pour toutes les plate-formes\n",
    "    http://git-scm.com"
   ]
  },
  {
   "cell_type": "markdown",
   "id": "b28dd24e",
   "metadata": {},
   "source": [
    "## <left> <b> <span style=\"color:green;\">Configuration des outils</span> </b></left>\n",
    "Configurer les informations de l'utilisateur pour tous les dépôts locaux\n",
    "##### - git config --global user.name \"[nom]\"\n",
    " Définit le nom que vous voulez associer à toutes vos opérations de commit\n",
    "##### - git config --global user.email \"[adresse email]\"\n",
    " Définit l'email que vous voulez associer à toutes vos opérations de commit\n",
    "##### - git config --global color.ui auto\n",
    " Active la colorisation de la sortie en ligne de commande"
   ]
  },
  {
   "cell_type": "markdown",
   "id": "c8a89ce1",
   "metadata": {},
   "source": [
    "## <left> <b> <span style=\"color:green;\">Créer de dépot</span> </b></left>\n",
    "Démarrer un nouveau dépôt ou en obtenir un depuis une URL existante\n",
    "##### - git init [nom-du-projet]\n",
    " Crée un dépôt local à partir du nom spécifié\n",
    "##### - git clone [url]\n",
    " Télécharge un projet et tout son historique de versions"
   ]
  },
  {
   "cell_type": "markdown",
   "id": "138a1798",
   "metadata": {},
   "source": [
    "## <left> <b> <span style=\"color:green;\">Effectuer des changements</span> </b></left>\n",
    "Consulter les modifications et effectuer une opération de commit\n",
    "##### - git status\n",
    "Liste tous les nouveaux fichiers et les fichiers modifiés à commiter\n",
    "##### - git diff\n",
    "Montre les modifications de fichier qui ne sont pas encore indexées\n",
    "#### - git add [fichier]\n",
    "Ajoute un instantané du fichier, en préparation pour le suivi de version\n",
    "##### - git diff --staged\n",
    "Montre les différences de fichier entre la version indexée et la dernière\n",
    "version\n",
    "##### - git reset [fichier]\n",
    "Enleve le fichier de l'index, mais conserve son contenu\n",
    "##### - git commit -m \"[message descriptif]\"\n",
    "Enregistre des instantanés de fichiers de façon permanente dans\n",
    "l'historique des versions"
   ]
  },
  {
   "cell_type": "markdown",
   "id": "2ec27e87",
   "metadata": {},
   "source": [
    "## <left> <b> <span style=\"color:green;\">Grouper des changements</span> </b></left>\n",
    "Nommer une série de commits et combiner les résultats de travaux terminés\n",
    "##### - git branch\n",
    "Liste toutes les branches locales dans le dépôt courant\n",
    "##### - git branch [nom-de-branche]\n",
    "Crée une nouvelle branche\n",
    "##### - git checkout [nom-de-branche]\n",
    "Bascule sur la branche spécifiée et met à jour le répertoire de travail\n",
    "##### - git merge [nom-de-branche]\n",
    "Combine dans la branche courante l'historique de la branche spécifiée\n",
    "##### - git branch -d [nom-de-branche]\n",
    "Supprime la branche spécifiée"
   ]
  },
  {
   "cell_type": "markdown",
   "id": "4c8da233",
   "metadata": {},
   "source": [
    "## <left> <b> <span style=\"color:green;\">Changements au niveau des noms de fichiers</span> </b></left>\n",
    "Déplacer et supprimer des fichiers sous suivi de version\n",
    "##### - git rm [fichier]\n",
    "Supprime le fichier du répertoire de travail et met à jour l'index\n",
    "##### - git rm --cached [fichier]\n",
    "Supprime le fichier du système de suivi de version mais le préserve\n",
    "localement\n",
    "##### - git mv [fichier-nom] [fichier-nouveau-nom]\n",
    "Renomme le fichier et prépare le changement pour un commit"
   ]
  },
  {
   "cell_type": "markdown",
   "id": "197fba07",
   "metadata": {},
   "source": [
    "## <left> <b> <span style=\"color:green;\">Exclure du suivi de version</span> </b></left>\n",
    "Exclure des fichiers et chemins temporaires\n",
    "- *.log\n",
    "- build/\n",
    "- temp-*\n",
    "Un fichier texte nommé .gitignore permet d'éviter le suivi de version accidentel pour les fichiers et chemins correspondant aux patterns spécifiés\n",
    "##### - git ls-files --other --ignored --exclude-standard\n",
    "Liste tous les fichiers exclus du suivi de version dans ce projet"
   ]
  },
  {
   "cell_type": "markdown",
   "id": "b8b99dad",
   "metadata": {},
   "source": [
    "## <left> <b> <span style=\"color:green;\">Enregistrer des fragments</span> </b></left>\n",
    "Mettre en suspens des modifications non finies pour y revenir plus tard\n",
    "##### - git stash\n",
    "Enregistre de manière temporaire tous les fichiers sous suivi de version\n",
    "qui ont été modifiés (\"remiser son travail\")\n",
    "##### - git stash pop\n",
    "Applique une remise et la supprime immédiatement\n",
    "##### - git stash list\n",
    "Liste toutes les remises\n",
    "###### - git stash drop\n",
    "Supprime la remise la plus récente"
   ]
  },
  {
   "cell_type": "markdown",
   "id": "18f67547",
   "metadata": {},
   "source": [
    "## <left> <b> <span style=\"color:green;\">Vérifier l'historique des versions </span> </b></left>\n",
    "Suivre et inspecter l'évolution des fichiers du projet\n",
    "##### - git log\n",
    "Montre l'historique des versions pour la branche courante\n",
    "##### - git log --follow [fichier]\n",
    "Montre l'historique des versions, y compris les actions de renommage, pour le fichier spécifié\n",
    "##### - git diff [premiere-branche]...[deuxieme-branche]\n",
    "Montre les différences de contenu entre deux branches\n",
    "##### - git show [commit]\n",
    "Montre les modifications de métadonnées et de contenu inclues dans le commit spécifié"
   ]
  },
  {
   "cell_type": "markdown",
   "id": "2df60b8c",
   "metadata": {},
   "source": [
    "## <left> <b> <span style=\"color:green;\">Refaire des commits</span> </b></left>\n",
    "Corriger des erreurs et gérer l'historique des corrections\n",
    "##### - git reset [commit]\n",
    "Annule tous les commits après `[commit]`, en conservant les modifications localement\n",
    "##### - git reset --hard [commit]\n",
    "Supprime tout l'historique et les modifications effectuées après le commit spécifié"
   ]
  },
  {
   "cell_type": "markdown",
   "id": "1aa3f194",
   "metadata": {},
   "source": [
    "## <left> <b> <span style=\"color:green;\">Synchroniser les changements</span> </b></left>\n",
    "Référencer un dépôt distant et synchroniser l'historique de versions\n",
    "##### - git fetch [nom-de-depot]\n",
    "Récupère tout l'historique du dépôt nommé\n",
    "##### - git merge [nom-de-depot]/[branche]\n",
    "Fusionne la branche du dépôt dans la branche locale courante\n",
    "##### - git push [alias] [branche]\n",
    "Envoie tous les commits de la branche locale vers GitHub\n",
    "##### - git pull\n",
    "Récupère tout l'historique du dépôt nommé et incorpore les modifications"
   ]
  },
  {
   "cell_type": "markdown",
   "id": "00becc9d",
   "metadata": {},
   "source": [
    "## <left> <b> <span style=\"color:orange;\">L’écosystème de Git</span> </b></left>\n",
    "- Services d’hébergement : GitHub, BitBucket, Gitorious (libre)\n",
    "- Créer son propre hébergement :\n",
    "    - Gitolite: simple gestionnaire de dépôts git, sans interface web\n",
    "    - GitLab: interface web, gestion de projets (bugs, etc.),\n",
    "    - FusionForge: solution intégrée (git, svn, mailing lists, bugtracker, etc.), initialement basé sur   SourceForge https://sourcesup.cru.fr/,http://gforge.inria.fr/\n",
    "    - Redmine: solution intégrée, plus simple que FusionForge\n",
    "- Visualisation de dépôts sur le web : gitweb\n",
    "- Outils graphiques :\n",
    "    - Visualisation :tig(curses),gitk,giggle\n",
    "    - Manipulation :git cola\n",
    "- Revue de code : Gerrit(cf https://review.openstack.org/"
   ]
  },
  {
   "cell_type": "markdown",
   "id": "3cbf7ec3",
   "metadata": {},
   "source": [
    "## <left> <b> <span style=\"color:orange;\">CONCLUSION</span> </b></left>\n",
    "- Les concepts et commandes de base ont été montrés… mais il y a quantité de rafinements à découvrir !!\n",
    "\n",
    "- Le Gitlab permet de gérer des dépôts git hébergés sur un serveur … mais il permet de faire beaucoup d’autres choses : intégration & déploiement continu ; génération de sites statiques ; édition de wiki ; etc."
   ]
  }
 ],
 "metadata": {
  "kernelspec": {
   "display_name": "Python 3",
   "language": "python",
   "name": "python3"
  },
  "language_info": {
   "codemirror_mode": {
    "name": "ipython",
    "version": 3
   },
   "file_extension": ".py",
   "mimetype": "text/x-python",
   "name": "python",
   "nbconvert_exporter": "python",
   "pygments_lexer": "ipython3",
   "version": "3.8.5"
  }
 },
 "nbformat": 4,
 "nbformat_minor": 5
}
